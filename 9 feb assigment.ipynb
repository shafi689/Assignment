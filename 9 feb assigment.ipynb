{
 "cells": [
  {
   "cell_type": "code",
   "execution_count": null,
   "id": "14be17a0-4643-4884-9666-b6a596d49030",
   "metadata": {},
   "outputs": [],
   "source": [
    "Q1, Create a vehicle class with an init method having instance variables as name_of_vehicle, max_speed\n",
    "and average_of_vehicle. \n"
   ]
  },
  {
   "cell_type": "code",
   "execution_count": 1,
   "id": "2b49f5e0-8fd3-479b-b7c3-77b237006a99",
   "metadata": {},
   "outputs": [],
   "source": [
    "class Vehicle:\n",
    "    def __init__(self, name_of_vehicle, max_speed, average_of_vehicle):\n",
    "        self.name_of_vehicle = name_of_vehicle\n",
    "        self.max_speed = max_speed\n",
    "        self.average_of_vehicle = average_of_vehicle\n"
   ]
  },
  {
   "cell_type": "code",
   "execution_count": 2,
   "id": "fc47877b-f2b3-49c3-a387-661b54f6bf71",
   "metadata": {},
   "outputs": [
    {
     "name": "stdout",
     "output_type": "stream",
     "text": [
      "Car\n",
      "200\n",
      "50\n"
     ]
    }
   ],
   "source": [
    "# Creating an instance of the Vehicle class\n",
    "car = Vehicle(\"Car\", 200, 50)\n",
    "\n",
    "# Accessing the instance variables\n",
    "print(car.name_of_vehicle)  # Output: Car\n",
    "print(car.max_speed)        # Output: 200\n",
    "print(car.average_of_vehicle)  # Output: 50\n"
   ]
  },
  {
   "cell_type": "code",
   "execution_count": null,
   "id": "da122caa-df79-4ad8-9a6a-06dc19277495",
   "metadata": {},
   "outputs": [],
   "source": [
    "Q2. Create a child class car from the vehicle class created in Que 1, which will inherit the vehicle class.\n",
    "   Create a method named seating_capacity which takes capacity as an argument and returns the name of\n",
    "    the vehicle and its seating capacity.\n"
   ]
  },
  {
   "cell_type": "code",
   "execution_count": 1,
   "id": "2472adc1-6adb-4cde-bcd5-4c7cbcc07447",
   "metadata": {},
   "outputs": [
    {
     "name": "stdout",
     "output_type": "stream",
     "text": [
      "Brand: Toyota\n",
      "Color: Blue\n",
      "Number of wheels: 4\n"
     ]
    }
   ],
   "source": [
    "class Vehicle:\n",
    "    def __init__(self, brand, color):\n",
    "        self.brand = brand\n",
    "        self.color = color\n",
    "\n",
    "    def display_info(self):\n",
    "        print(f\"Brand: {self.brand}\")\n",
    "        print(f\"Color: {self.color}\")\n",
    "\n",
    "\n",
    "class Car(Vehicle):\n",
    "    def __init__(self, brand, color, num_wheels):\n",
    "        super().__init__(brand, color)\n",
    "        self.num_wheels = num_wheels\n",
    "\n",
    "    def display_info(self):\n",
    "        super().display_info()\n",
    "        print(f\"Number of wheels: {self.num_wheels}\")\n",
    "\n",
    "\n",
    "# Creating an instance of the Car class\n",
    "my_car = Car(\"Toyota\", \"Blue\", 4)\n",
    "\n",
    "# Calling the display_info method on the Car instance\n",
    "my_car.display_info()\n"
   ]
  },
  {
   "cell_type": "code",
   "execution_count": 2,
   "id": "a46a7447-a85e-47de-ac07-4fb16cfebf79",
   "metadata": {},
   "outputs": [
    {
     "name": "stdout",
     "output_type": "stream",
     "text": [
      "Brand: Toyota\n",
      "Color: Blue\n",
      "Number of wheels: 4\n",
      "None\n",
      "Vehicle: Car, Seating Capacity: 4\n"
     ]
    }
   ],
   "source": [
    "class Vehicle:\n",
    "    def __init__(self, brand, color):\n",
    "        self.brand = brand\n",
    "        self.color = color\n",
    "\n",
    "    def display_info(self):\n",
    "        print(f\"Brand: {self.brand}\")\n",
    "        print(f\"Color: {self.color}\")\n",
    "\n",
    "    def seating_capacity(self, capacity):\n",
    "        return f\"Vehicle: {self.__class__.__name__}, Seating Capacity: {capacity}\"\n",
    "\n",
    "\n",
    "class Car(Vehicle):\n",
    "    def __init__(self, brand, color, num_wheels):\n",
    "        super().__init__(brand, color)\n",
    "        self.num_wheels = num_wheels\n",
    "\n",
    "    def display_info(self):\n",
    "        super().display_info()\n",
    "        print(f\"Number of wheels: {self.num_wheels}\")\n",
    "\n",
    "\n",
    "my_car = Car(\"Toyota\", \"Blue\", 4)\n",
    "print(my_car.display_info())\n",
    "print(my_car.seating_capacity(4))\n"
   ]
  },
  {
   "cell_type": "code",
   "execution_count": 3,
   "id": "3b3dffa7-68c7-4c38-afe0-6361a9eb6b37",
   "metadata": {},
   "outputs": [
    {
     "name": "stdout",
     "output_type": "stream",
     "text": [
      "Name: Honda Civic\n",
      "Color: Blue\n",
      "Honda Civic - Seating Capacity: 4 people\n"
     ]
    }
   ],
   "source": [
    "class Vehicle:\n",
    "    def __init__(self, name, color):\n",
    "        self.name = name\n",
    "        self.color = color\n",
    "\n",
    "    def display_info(self):\n",
    "        print(f\"Name: {self.name}\")\n",
    "        print(f\"Color: {self.color}\")\n",
    "\n",
    "\n",
    "class Car(Vehicle):\n",
    "    def seating_capacity(self, capacity):\n",
    "        return f\"{self.name} - Seating Capacity: {capacity} people\"\n",
    "\n",
    "\n",
    "# Creating an instance of the Car class\n",
    "car = Car(\"Honda Civic\", \"Blue\")\n",
    "\n",
    "# Accessing attributes from the Vehicle class\n",
    "car.display_info()\n",
    "\n",
    "# Calling the seating_capacity method from the Car class\n",
    "capacity = 4\n",
    "seating_info = car.seating_capacity(capacity)\n",
    "print(seating_info)\n"
   ]
  },
  {
   "cell_type": "code",
   "execution_count": null,
   "id": "742e4133-2468-42c2-b26b-1a1c6b3ebe65",
   "metadata": {},
   "outputs": [],
   "source": [
    "Q3. What is multiple inheritance? Write a python code to demonstrate multiple inheritance.\n"
   ]
  },
  {
   "cell_type": "code",
   "execution_count": 4,
   "id": "b360fcba-eac0-4b2b-80b9-518fb13a759f",
   "metadata": {},
   "outputs": [
    {
     "name": "stdout",
     "output_type": "stream",
     "text": [
      "Sparrow is eating.\n",
      "Flying.\n"
     ]
    }
   ],
   "source": [
    "class Animal:\n",
    "    def __init__(self, name):\n",
    "        self.name = name\n",
    "    \n",
    "    def eat(self):\n",
    "        print(f\"{self.name} is eating.\")\n",
    "\n",
    "class Flyable:\n",
    "    def fly(self):\n",
    "        print(\"Flying.\")\n",
    "\n",
    "class Bird(Animal, Flyable):\n",
    "    def __init__(self, name):\n",
    "        super().__init__(name)\n",
    "\n",
    "bird = Bird(\"Sparrow\")\n",
    "bird.eat()  # Output: Sparrow is eating.\n",
    "bird.fly()  # Output: Flying.\n"
   ]
  },
  {
   "cell_type": "code",
   "execution_count": null,
   "id": "2ddeb221-837a-43bd-b27d-0063ed592bba",
   "metadata": {},
   "outputs": [],
   "source": [
    "Q4. What are getter and setter in python? Create a class and create a getter and a setter method in this\n",
    "class.\n"
   ]
  },
  {
   "cell_type": "code",
   "execution_count": 5,
   "id": "59654269-19f1-4894-8389-de1c96c3e978",
   "metadata": {},
   "outputs": [
    {
     "name": "stdout",
     "output_type": "stream",
     "text": [
      "Alice\n",
      "Bob\n",
      "25\n",
      "30\n",
      "Invalid age!\n",
      "30\n"
     ]
    }
   ],
   "source": [
    "class Person:\n",
    "    def __init__(self, name, age):\n",
    "        self._name = name\n",
    "        self._age = age\n",
    "    \n",
    "    def get_name(self):\n",
    "        return self._name\n",
    "    \n",
    "    def set_name(self, name):\n",
    "        self._name = name\n",
    "    \n",
    "    def get_age(self):\n",
    "        return self._age\n",
    "    \n",
    "    def set_age(self, age):\n",
    "        if age >= 0:\n",
    "            self._age = age\n",
    "        else:\n",
    "            print(\"Invalid age!\")\n",
    "    \n",
    "# Create an instance of the Person class\n",
    "person = Person(\"Alice\", 25)\n",
    "\n",
    "# Get the name using the getter method\n",
    "print(person.get_name())  # Output: Alice\n",
    "\n",
    "# Set a new name using the setter method\n",
    "person.set_name(\"Bob\")\n",
    "print(person.get_name())  # Output: Bob\n",
    "\n",
    "# Get the age using the getter method\n",
    "print(person.get_age())  # Output: 25\n",
    "\n",
    "# Set a new age using the setter method\n",
    "person.set_age(30)\n",
    "print(person.get_age())  # Output: 30\n",
    "\n",
    "# Try to set an invalid age using the setter method\n",
    "person.set_age(-5)  # Output: Invalid age!\n",
    "print(person.get_age())  # Output: 30 (age remains unchanged)\n"
   ]
  },
  {
   "cell_type": "code",
   "execution_count": null,
   "id": "5dda1bb7-52e5-45f7-a9c6-f687af1016d6",
   "metadata": {},
   "outputs": [],
   "source": [
    "Q5.What is method overriding in python? Write a python code to demonstrate method overriding.\n"
   ]
  },
  {
   "cell_type": "code",
   "execution_count": null,
   "id": "1804b7ca-3f17-4148-b313-01659e0b7dd2",
   "metadata": {},
   "outputs": [],
   "source": [
    "Method overriding in Python occurs when a subclass defines a method that is already defined in its \n",
    "parent class. The subclass provides a different implementation of the method, thus overriding the behavior \n",
    "of the parent class. This allows the subclass to customize the inherited behavior according to its specific \n",
    "requirements."
   ]
  },
  {
   "cell_type": "code",
   "execution_count": 6,
   "id": "91186e07-8e19-4b1a-adda-616b20fed59c",
   "metadata": {},
   "outputs": [
    {
     "name": "stdout",
     "output_type": "stream",
     "text": [
      "Animal is speaking.\n",
      "Meow!\n",
      "Woof!\n"
     ]
    }
   ],
   "source": [
    "class Animal:\n",
    "    def speak(self):\n",
    "        print(\"Animal is speaking.\")\n",
    "\n",
    "class Cat(Animal):\n",
    "    def speak(self):\n",
    "        print(\"Meow!\")\n",
    "\n",
    "class Dog(Animal):\n",
    "    def speak(self):\n",
    "        print(\"Woof!\")\n",
    "\n",
    "# Creating instances of the classes\n",
    "animal = Animal()\n",
    "cat = Cat()\n",
    "dog = Dog()\n",
    "\n",
    "# Calling the speak method\n",
    "animal.speak()  # Output: Animal is speaking.\n",
    "cat.speak()     # Output: Meow!\n",
    "dog.speak()     # Output: Woof!\n"
   ]
  },
  {
   "cell_type": "code",
   "execution_count": null,
   "id": "c4a53abe-01ac-4920-83b8-153bdafd84f8",
   "metadata": {},
   "outputs": [],
   "source": []
  },
  {
   "cell_type": "code",
   "execution_count": null,
   "id": "6d6991b0-e01c-41f7-9283-d0f7d089980f",
   "metadata": {},
   "outputs": [],
   "source": []
  },
  {
   "cell_type": "code",
   "execution_count": null,
   "id": "e86467d4-942c-411f-a1eb-4ea82d644d35",
   "metadata": {},
   "outputs": [],
   "source": []
  }
 ],
 "metadata": {
  "kernelspec": {
   "display_name": "Python 3 (ipykernel)",
   "language": "python",
   "name": "python3"
  },
  "language_info": {
   "codemirror_mode": {
    "name": "ipython",
    "version": 3
   },
   "file_extension": ".py",
   "mimetype": "text/x-python",
   "name": "python",
   "nbconvert_exporter": "python",
   "pygments_lexer": "ipython3",
   "version": "3.10.8"
  }
 },
 "nbformat": 4,
 "nbformat_minor": 5
}
