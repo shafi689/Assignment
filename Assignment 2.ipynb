{
 "cells": [
  {
   "cell_type": "code",
   "execution_count": null,
   "id": "3ae6152b-cc15-4563-9a5b-b71d132960d7",
   "metadata": {},
   "outputs": [],
   "source": [
    "1. Which keyword is used to create a function? Create a function to return a list of odd numbers in the\n",
    "range of 1 to 25."
   ]
  },
  {
   "cell_type": "code",
   "execution_count": null,
   "id": "97b66a8b-5f75-49ea-a7ab-7e13936f72fc",
   "metadata": {},
   "outputs": [],
   "source": [
    "ans def is used  to create a function\n",
    "eg\n",
    "    \n",
    "\n",
    "   # Python program to print odd Numbers in given range\n",
    "def odd(n):\n",
    "start, end = 1, 25\n",
    "\n",
    "# iterating each number in list\n",
    "for n in range(start, end + 1):\n",
    "\t\n",
    "\t# checking condition\n",
    "\tif n % 2 != 0:\n",
    "\t\tprint(n, end = \" \")\n",
    "\n",
    "    \n",
    "    \n",
    "    \n",
    "    "
   ]
  },
  {
   "cell_type": "code",
   "execution_count": null,
   "id": "8fc987fe-64dc-4e7e-a05c-5bb8f503bad0",
   "metadata": {},
   "outputs": [],
   "source": [
    "2. Why *args and **kwargs is used in some functions? Create a function each for *args and **kwargs\n",
    "\n",
    "*args is used to pass any type of data in it will retun or show \n",
    "eg   \n",
    "     def shafi(*args):\n",
    "        return args\n",
    "    \n",
    "    shafi(1,2,3,4)\n",
    "    \n",
    "    \n",
    "    def shafi(**args):  #it is used to return dictionary or take key and valus\n",
    "        return args\n",
    "    \n",
    "    shafi( a=\"mu name\" , b=[1,2,23,4] )\n",
    "    \n"
   ]
  },
  {
   "cell_type": "code",
   "execution_count": null,
   "id": "a05e69f0-a3a4-4c0b-b224-7c619bb1dcbe",
   "metadata": {},
   "outputs": [],
   "source": [
    " def test(*args)\n",
    "    return args\n",
    " \n",
    " test(1,2,3)"
   ]
  },
  {
   "cell_type": "code",
   "execution_count": null,
   "id": "77ad3c5e-eac3-4d6f-b9c8-6a5bb0b06c60",
   "metadata": {},
   "outputs": [],
   "source": [
    "3. What is an iterator in python? Name the method used to initialise the iterator object and the method\n",
    "used for iteration. Use these methods to print the first five elements of the given list [2, 4, 6, 8, 10, 12, 14,\n",
    "16, 18, 20]."
   ]
  },
  {
   "cell_type": "code",
   "execution_count": null,
   "id": "e4ef1fe1-a793-4632-a81e-04bf00745f78",
   "metadata": {},
   "outputs": [],
   "source": []
  },
  {
   "cell_type": "code",
   "execution_count": null,
   "id": "9062f5c6-4c2b-471c-86dc-3ea74c4ab550",
   "metadata": {},
   "outputs": [],
   "source": [
    "4. What is a generator function in python? Why yield keyword is used? Give an example of a generator\n",
    "function."
   ]
  },
  {
   "cell_type": "code",
   "execution_count": null,
   "id": "1fb31e20-e53c-48e6-ae60-7f38a271189e",
   "metadata": {},
   "outputs": [],
   "source": []
  },
  {
   "cell_type": "code",
   "execution_count": null,
   "id": "8b027fd6-56c3-407f-9a21-814667a10d17",
   "metadata": {},
   "outputs": [],
   "source": [
    "5. Create a generator function for prime numbers less than 1000. Use the next() method to print the\n",
    "first 20 prime numbers."
   ]
  },
  {
   "cell_type": "code",
   "execution_count": null,
   "id": "87226c8d-8d2e-4bfd-8d8d-aa9b5bf43bfe",
   "metadata": {},
   "outputs": [],
   "source": []
  },
  {
   "cell_type": "code",
   "execution_count": null,
   "id": "306b41c2-7860-42cd-8e33-6f514c361203",
   "metadata": {},
   "outputs": [],
   "source": [
    "6. Write a python program to print the first 10 Fibonacci numbers using a while loop."
   ]
  },
  {
   "cell_type": "code",
   "execution_count": null,
   "id": "bcbb9f04-c359-4aba-8c1e-32fdeb7c2d1b",
   "metadata": {},
   "outputs": [],
   "source": [
    "ans  \n",
    "      number = int(input(\"enter the number of element you are looking for \"))\n",
    "a , b  = 0 , 1 \n",
    "counter = 0 \n",
    "while counter < number : \n",
    "    print(a)\n",
    "    c = a+ b\n",
    "    a = b \n",
    "    b = c \n",
    "    counter= counter+ 1\n",
    "\n"
   ]
  },
  {
   "cell_type": "code",
   "execution_count": null,
   "id": "4f77faaf-3a63-4ccf-b76c-5a63aedbb203",
   "metadata": {},
   "outputs": [],
   "source": [
    "7. Write a List Comprehension to iterate through the given string: ‘pwskills’.\n",
    "   Expected output: ['p', 'w', 's', 'k', 'i', 'l', 'l', 's']"
   ]
  },
  {
   "cell_type": "code",
   "execution_count": null,
   "id": "31f191d5-1b7a-474b-9a11-1ff68f709314",
   "metadata": {},
   "outputs": [],
   "source": [
    "[ans\n",
    "    \n",
    "    [i.split() for i in l]"
   ]
  },
  {
   "cell_type": "code",
   "execution_count": null,
   "id": "34c5aed3-bf36-4555-a5d4-fb8c606635cd",
   "metadata": {},
   "outputs": [],
   "source": [
    "8. Write a python program to check whether a given number is Palindrome or not using a while loop."
   ]
  },
  {
   "cell_type": "code",
   "execution_count": null,
   "id": "e138d3d8-1cb3-470a-a09f-471fdf0acc43",
   "metadata": {},
   "outputs": [],
   "source": []
  },
  {
   "cell_type": "code",
   "execution_count": null,
   "id": "31db3172-868a-42e6-a9fd-0a8b04f8a705",
   "metadata": {},
   "outputs": [],
   "source": [
    "9. Write a code to print odd numbers from 1 to 100 using list comprehension.\n",
    "\n",
    "Note:\n",
    " Use a list comprehension to create a list from 1 to 100 and use another List comprehension to filter\n",
    "out odd numbers."
   ]
  },
  {
   "cell_type": "code",
   "execution_count": null,
   "id": "8bd02df5-69be-4d93-8299-74fa1b331cbf",
   "metadata": {},
   "outputs": [],
   "source": []
  },
  {
   "cell_type": "code",
   "execution_count": null,
   "id": "618796d7-c730-4ea3-a6d6-b5874023e6dd",
   "metadata": {},
   "outputs": [],
   "source": []
  },
  {
   "cell_type": "code",
   "execution_count": null,
   "id": "e655f5ab-1b19-4f78-b7c2-1ebaa5286e1b",
   "metadata": {},
   "outputs": [],
   "source": []
  }
 ],
 "metadata": {
  "kernelspec": {
   "display_name": "Python 3 (ipykernel)",
   "language": "python",
   "name": "python3"
  },
  "language_info": {
   "codemirror_mode": {
    "name": "ipython",
    "version": 3
   },
   "file_extension": ".py",
   "mimetype": "text/x-python",
   "name": "python",
   "nbconvert_exporter": "python",
   "pygments_lexer": "ipython3",
   "version": "3.10.8"
  }
 },
 "nbformat": 4,
 "nbformat_minor": 5
}
