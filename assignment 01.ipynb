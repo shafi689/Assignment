{
 "cells": [
  {
   "cell_type": "code",
   "execution_count": null,
   "id": "9f43383e-151f-425d-a2c7-dcf82c7ec9a0",
   "metadata": {},
   "outputs": [],
   "source": [
    "1 Explain with an example each when to use a for loop and a while loop."
   ]
  },
  {
   "cell_type": "code",
   "execution_count": null,
   "id": "0d5552ba-2262-4ea3-b234-32f7bb1c3d02",
   "metadata": {},
   "outputs": [],
   "source": [
    "A \"For\" Loop is used to repeat a specific block of code a known number of times.\n",
    "\n",
    "l = [\"rohit\" ,\"mohit\" ,\"shafi\" ,\"aburag\" ,\n",
    "for i in l : \n",
    "    if i == \"shafi\":\n",
    "        continue\n",
    "    print(i)\n",
    "else :\n",
    "    print(\"execute this if for loop is able to complete itself\")"
   ]
  },
  {
   "cell_type": "code",
   "execution_count": null,
   "id": "f5149a24-e004-463a-a73c-d191e0d1aba4",
   "metadata": {},
   "outputs": [],
   "source": [
    "A \"While\" Loop is used to repeat a specific block of code an unknown number of times, until a \n",
    "condition is met.\n",
    "\n",
    "# to find fibonacci series\n",
    "\n",
    "number = int(input(\"enter the number of element you are looking for \"))\n",
    "a , b  = 50 , 55\n",
    "counter = 0 \n",
    "while counter < number : \n",
    "    print(a)\n",
    "    c = a+ b\n",
    "    a = b \n",
    "    b = c \n",
    "    counter= counter+ 1"
   ]
  },
  {
   "cell_type": "code",
   "execution_count": null,
   "id": "93b7db17-1a2d-4750-90df-d06d99599d47",
   "metadata": {},
   "outputs": [],
   "source": [
    " 2 Write a python program to print the sum and product of the first 10 natural numbers using for and while loop."
   ]
  },
  {
   "cell_type": "code",
   "execution_count": null,
   "id": "b631936c-6ddc-412d-8ecd-13b11d7d177c",
   "metadata": {},
   "outputs": [],
   "source": [
    "#sum using while loop\n",
    "\n",
    "n = 10\n",
    "starting_point = 0 \n",
    "counter = 1\n",
    "\n",
    "while counter <= n:\n",
    "    starting_point = starting_point + counter\n",
    "    counter = counter + 1\n",
    "starting_point\n",
    "\n",
    "\n",
    "#product using while loop\n",
    "number = 10\n",
    "factorial = 1 \n",
    "while number > 0 :\n",
    "    factorial = factorial*number\n",
    "    number = number-1\n",
    "factorial\n",
    "\n"
   ]
  },
  {
   "cell_type": "code",
   "execution_count": null,
   "id": "ccc92ec4-45d8-4670-b485-dd579fa7fe85",
   "metadata": {},
   "outputs": [],
   "source": [
    "# sum using for loop\n",
    "\n",
    "t=[1,2,3,4,5,6,7,8,9,10]\n",
    "result = 0\n",
    "for i in t :\n",
    "    result = result+ i \n",
    "result\n",
    "\n",
    "#product using for loop\n",
    "\n",
    "t=[1,2,3,4,5,6,7,8,9,10]\n",
    "result = 1\n",
    "for i in t :\n",
    "    result = result* i \n",
    "result\n",
    "\n",
    "\n",
    "\n",
    "\n",
    "\n",
    "\n",
    "\n",
    "\n"
   ]
  },
  {
   "cell_type": "code",
   "execution_count": null,
   "id": "1f61efdb-ba27-454c-a305-c394b32e1e3f",
   "metadata": {},
   "outputs": [],
   "source": [
    " 3 Create a python program to compute the electricity bill for a household.\n",
    "The per-unit charges in rupees are as follows: For the first 100 units, the user will be charged Rs. 4.5 per\n",
    "unit, for the next 100 units, the user will be charged Rs. 6 per unit, and for the next 100 units, the user will\n",
    "be charged Rs. 10 per unit, After 300 units and above the user will be charged Rs. 20 per unit.\n",
    "\n",
    "You are required to take the units of electricity consumed in a month from the user as input.\n",
    "\n",
    "Your program must pass this test case: when the unit of electricity consumed by the user in a month is\n",
    "310, the total electricity bill should be 2250."
   ]
  },
  {
   "cell_type": "code",
   "execution_count": null,
   "id": "a239a15c-c9bc-4574-8ae5-b325b4159364",
   "metadata": {},
   "outputs": [],
   "source": [
    "\n",
    "\n",
    "\n"
   ]
  },
  {
   "cell_type": "code",
   "execution_count": null,
   "id": "a4f74a5c-30c0-43c3-b1c7-0bc0778b0714",
   "metadata": {},
   "outputs": [],
   "source": [
    "4 Create a list of numbers from 1 to 100. Use for loop and while loop to calculate the cube of each\n",
    "number and if the cube of that number is divisible by 4 or 5 then append that number in a list and print\n",
    "that list."
   ]
  },
  {
   "cell_type": "code",
   "execution_count": null,
   "id": "a402f11c-d997-4d1a-98a6-8282ddad61fd",
   "metadata": {},
   "outputs": [],
   "source": [
    "\n",
    "\n",
    "\n",
    "\n",
    "\n"
   ]
  },
  {
   "cell_type": "code",
   "execution_count": null,
   "id": "5cdcecc3-2a5e-4668-b272-ae7a8171b9b8",
   "metadata": {},
   "outputs": [],
   "source": [
    "5 Write a program to filter count vowels in the below-given string.\n",
    "\n",
    "string = \"I want to become a data scientist\""
   ]
  },
  {
   "cell_type": "code",
   "execution_count": null,
   "id": "e3a3b137-64a9-491e-b5ce-db70f8860ecc",
   "metadata": {},
   "outputs": [],
   "source": [
    "\n",
    "\n",
    "\n",
    "\n"
   ]
  }
 ],
 "metadata": {
  "kernelspec": {
   "display_name": "Python 3 (ipykernel)",
   "language": "python",
   "name": "python3"
  },
  "language_info": {
   "codemirror_mode": {
    "name": "ipython",
    "version": 3
   },
   "file_extension": ".py",
   "mimetype": "text/x-python",
   "name": "python",
   "nbconvert_exporter": "python",
   "pygments_lexer": "ipython3",
   "version": "3.10.8"
  }
 },
 "nbformat": 4,
 "nbformat_minor": 5
}
