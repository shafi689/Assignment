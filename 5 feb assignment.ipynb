{
 "cells": [
  {
   "cell_type": "code",
   "execution_count": null,
   "id": "e73e6a04-c6b3-428a-af3b-ddc602e60136",
   "metadata": {},
   "outputs": [],
   "source": [
    "Q1. Explain Class and Object with respect to Object-Oriented Programming. Give a suitable example.\n"
   ]
  },
  {
   "cell_type": "code",
   "execution_count": null,
   "id": "424c625c-061f-46b6-a84f-ba1ebfb6b4d2",
   "metadata": {},
   "outputs": [],
   "source": [
    "object-oriented programming (OOP), a class is a blueprint or template for creating objects, \n",
    "while an object is an instance of a class. A class defines the properties (attributes) \n",
    "and behaviors (methods) that objects of that class will have. It encapsulates the data \n",
    "and functionality associated with a certain concept or entity.\n",
    "\n",
    "Let's take the example of phones to illustrate the concept of classes and objects.\n",
    "In this case, a class could be named \"Phone\" and would serve as a blueprint for creating individual phone objects.\n",
    "\n",
    "class Phone:\n",
    "    def __init__(self, brand, model):\n",
    "        self.brand = brand\n",
    "        self.model = model\n",
    "\n",
    "    def make_call(self, number):\n",
    "        print(f\"{self.brand} {self.model} is making a call to {number}.\")\n",
    "\n",
    "    def send_message(self, number, message):\n",
    "        print(f\"{self.brand} {self.model} is sending a message to {number}: {message}.\")\n"
   ]
  },
  {
   "cell_type": "code",
   "execution_count": null,
   "id": "69b13a18-5aaf-4087-9eab-51c5d9ccd39f",
   "metadata": {},
   "outputs": [],
   "source": [
    "Q2. Name the four pillars of OOPs.\n"
   ]
  },
  {
   "cell_type": "code",
   "execution_count": null,
   "id": "be78e177-5516-4f68-8c89-80877edf002b",
   "metadata": {},
   "outputs": [],
   "source": [
    "enscaptulation\n",
    "inheritence\n",
    "polymorphism\n",
    "abstraction"
   ]
  },
  {
   "cell_type": "code",
   "execution_count": null,
   "id": "504fd2d1-047e-4046-90ff-0d46187ae37b",
   "metadata": {},
   "outputs": [],
   "source": [
    "Q3. Explain why the __init__() function is used. Give a suitable example.\n"
   ]
  },
  {
   "cell_type": "code",
   "execution_count": null,
   "id": "8f501a64-75dd-45cd-8be9-972fdcc156ac",
   "metadata": {},
   "outputs": [],
   "source": [
    "The __init__() function is a special method in Python classes that is automatically called when an object of \n",
    "that class is created. It is commonly used to initialize or set up the initial state of an object by assigning\n",
    "values to its attributes or performing other necessary setup tasks.\n",
    "\n",
    "Here's an example to illustrate the usage of the __init__() function:\n",
    "\n",
    "\n",
    "\n",
    "\n",
    "class Laptop:\n",
    "    def __init__(self, brand, model, processor, ram):\n",
    "        self.brand = brand\n",
    "        self.model = model\n",
    "        self.processor = processor\n",
    "        self.ram = ram\n",
    "        self.is_powered_on = False\n",
    "\n",
    "    def power_on(self):\n",
    "        self.is_powered_on = True\n",
    "        print(f\"The {self.brand} {self.model} is powered on.\")\n",
    "\n",
    "    def power_off(self):\n",
    "        self.is_powered_on = False\n",
    "        print(f\"The {self.brand} {self.model} is powered off.\")\n"
   ]
  },
  {
   "cell_type": "code",
   "execution_count": null,
   "id": "8158155a-41ce-4f66-aff0-364cd9323baf",
   "metadata": {},
   "outputs": [],
   "source": [
    "Q4. Why self is used in OOPs?\n"
   ]
  },
  {
   "cell_type": "code",
   "execution_count": null,
   "id": "6153aff9-2501-4922-8896-9cb1a6d48a35",
   "metadata": {},
   "outputs": [],
   "source": [
    "In object-oriented programming (OOP), the term \"self\" refers to a special variable that represents the instance \n",
    "of a class. It is commonly used within class methods to access and manipulate the instance variables and methods \n",
    "of that particular object."
   ]
  },
  {
   "cell_type": "code",
   "execution_count": null,
   "id": "0fec32e4-90eb-4937-909f-2f724769c2a1",
   "metadata": {},
   "outputs": [],
   "source": [
    "Q5. What is inheritance? Give an example for each type of inheritance.\n",
    "\n"
   ]
  },
  {
   "cell_type": "code",
   "execution_count": null,
   "id": "dd9a73b9-946b-42d2-8b1a-6a688537a2e8",
   "metadata": {},
   "outputs": [],
   "source": [
    "single\n",
    "hirarchical\n",
    "hybrid\n",
    "multiple\n",
    "\n",
    "\n",
    "class Vehicle:\n",
    "    def __init__(self, make, model, year):\n",
    "        self.make = make\n",
    "        self.model = model\n",
    "        self.year = year\n",
    "\n",
    "    def start_engine(self):\n",
    "        print(\"Engine started\")\n",
    "\n",
    "class Car(Vehicle):\n",
    "    def __init__(self, make, model, year, num_doors):\n",
    "        super().__init__(make, model, year)\n",
    "        self.num_doors = num_doors\n",
    "\n",
    "my_car = Car(\"Toyota\", \"Camry\", 2021, 4)\n",
    "print(my_car.make) # Output: Toyota\n",
    "print(my_car.model) # Output: Camry\n",
    "print(my_car.year) # Output: 2021\n",
    "my_car.start_engine() # Output: Engine started\n"
   ]
  }
 ],
 "metadata": {
  "kernelspec": {
   "display_name": "Python 3 (ipykernel)",
   "language": "python",
   "name": "python3"
  },
  "language_info": {
   "codemirror_mode": {
    "name": "ipython",
    "version": 3
   },
   "file_extension": ".py",
   "mimetype": "text/x-python",
   "name": "python",
   "nbconvert_exporter": "python",
   "pygments_lexer": "ipython3",
   "version": "3.10.8"
  }
 },
 "nbformat": 4,
 "nbformat_minor": 5
}
