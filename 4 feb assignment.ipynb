{
 "cells": [
  {
   "cell_type": "code",
   "execution_count": null,
   "id": "b5f5b1c7-1cb3-4f44-9747-98c2826e58fb",
   "metadata": {},
   "outputs": [],
   "source": [
    "Q1 Create a python program to sort the given list of tuples based on integer value using a\n",
    "lambda function"
   ]
  },
  {
   "cell_type": "code",
   "execution_count": 1,
   "id": "bd7bc470-188c-4098-a9ef-826451827654",
   "metadata": {},
   "outputs": [
    {
     "name": "stdout",
     "output_type": "stream",
     "text": [
      "('Virat Kohli', 24936)\n",
      "('Jack Kallis', 25534)\n",
      "('Ricky Ponting', 27483)\n",
      "('Sachin Tendulkar', 34357)\n"
     ]
    }
   ],
   "source": [
    "players = [('Sachin Tendulkar', 34357), ('Ricky Ponting', 27483), ('Jack Kallis', 25534), ('Virat Kohli', 24936)]\n",
    "\n",
    "# sort the list based on the second element of each tuple (an integer value)\n",
    "players.sort(key=lambda x: x[1])\n",
    "\n",
    "# print the sorted list\n",
    "for player in players:\n",
    "    print(player)\n"
   ]
  },
  {
   "cell_type": "code",
   "execution_count": null,
   "id": "4258dbb4-bc09-458f-a2bb-829c64d1a8be",
   "metadata": {},
   "outputs": [],
   "source": [
    " Q2 Write a Python Program to find the squares of all the numbers in the given list of integers using\n",
    "lambda and map functions.\n",
    "\n",
    "\n",
    "[1, 2, 3, 4, 5, 6, 7, 8, 9, 10]\n"
   ]
  },
  {
   "cell_type": "code",
   "execution_count": 2,
   "id": "f1c1b861-f3b0-429d-b053-056b127177de",
   "metadata": {},
   "outputs": [
    {
     "name": "stdout",
     "output_type": "stream",
     "text": [
      "[1, 4, 9, 16, 25, 36, 49, 64, 81, 100]\n"
     ]
    }
   ],
   "source": [
    "numbers = [1, 2, 3, 4, 5, 6, 7, 8, 9, 10]\n",
    "\n",
    "squared_numbers = list(map(lambda x: x ** 2, numbers))\n",
    "\n",
    "print(squared_numbers)\n"
   ]
  },
  {
   "cell_type": "code",
   "execution_count": null,
   "id": "7cb0960e-3a8f-4352-b2d0-1d0856827763",
   "metadata": {},
   "outputs": [],
   "source": [
    "Q3 Write a python program to convert the given list of integers into a tuple of strings. Use map and\n",
    "lambda functions\n",
    "\n",
    "\n",
    "Given String: [1, 2, 3, 4, 5, 6, 7, 8, 9, 10]\n",
    "\n",
    "Expected output: ('1', '2', '3', '4', '5', '6', '7', '8', '9', '10')\n"
   ]
  },
  {
   "cell_type": "code",
   "execution_count": 3,
   "id": "975159f5-6a62-41c6-8919-9bdd25d50082",
   "metadata": {},
   "outputs": [
    {
     "name": "stdout",
     "output_type": "stream",
     "text": [
      "('1', '2', '3', '4', '5', '6', '7', '8', '9', '10')\n"
     ]
    }
   ],
   "source": [
    "given_list = [1, 2, 3, 4, 5, 6, 7, 8, 9, 10]\n",
    "converted_tuple = tuple(map(lambda x: str(x), given_list))\n",
    "print(converted_tuple)\n"
   ]
  },
  {
   "cell_type": "code",
   "execution_count": null,
   "id": "408772e4-1b9c-4133-af8e-db01a9f002c1",
   "metadata": {},
   "outputs": [],
   "source": [
    "Q4. Write a python program using reduce function to compute the product of a list containing numbers\n",
    "from 1 to 25.\n"
   ]
  },
  {
   "cell_type": "code",
   "execution_count": 4,
   "id": "0a4bb306-702e-47bf-bcd4-6099c67da61d",
   "metadata": {},
   "outputs": [
    {
     "name": "stdout",
     "output_type": "stream",
     "text": [
      "Product: 15511210043330985984000000\n"
     ]
    }
   ],
   "source": [
    "from functools import reduce\n",
    "import operator\n",
    "\n",
    "# Define the list containing numbers from 1 to 25\n",
    "numbers = list(range(1, 26))\n",
    "\n",
    "# Compute the product using the reduce function and operator.mul\n",
    "product = reduce(operator.mul, numbers)\n",
    "\n",
    "# Print the result\n",
    "print(\"Product:\", product)\n"
   ]
  },
  {
   "cell_type": "code",
   "execution_count": null,
   "id": "6551c31e-408a-4021-b083-b5391d20600f",
   "metadata": {},
   "outputs": [],
   "source": [
    "Q5. Write a python program to filter the numbers in a given list that are divisible by 2 and 3 using the\n",
    "filter function.\n",
    "\n",
    "\n",
    "[2, 3, 6, 9, 27, 60, 90, 120, 55, 46]\n"
   ]
  },
  {
   "cell_type": "code",
   "execution_count": 5,
   "id": "f884a368-7317-4289-b4a0-4562bdec8410",
   "metadata": {},
   "outputs": [
    {
     "name": "stdout",
     "output_type": "stream",
     "text": [
      "[6, 60, 90, 120]\n"
     ]
    }
   ],
   "source": [
    "def divisible_by_2_and_3(num):\n",
    "    return num % 2 == 0 and num % 3 == 0\n",
    "\n",
    "numbers = [2, 3, 6, 9, 27, 60, 90, 120, 55, 46]\n",
    "\n",
    "filtered_numbers = list(filter(divisible_by_2_and_3, numbers))\n",
    "\n",
    "print(filtered_numbers)\n"
   ]
  },
  {
   "cell_type": "code",
   "execution_count": null,
   "id": "d488bac6-aa65-4bf6-aad3-2284f4a26ef6",
   "metadata": {},
   "outputs": [],
   "source": [
    "Q6. Write a python program to find palindromes in the given list of strings using lambda and filter\n",
    "function.\n",
    "\n",
    "\n",
    "['python', 'php', 'aba', 'radar', 'level']\n"
   ]
  },
  {
   "cell_type": "code",
   "execution_count": 6,
   "id": "95f6445e-0d43-47ab-abb8-c9d947966134",
   "metadata": {},
   "outputs": [
    {
     "name": "stdout",
     "output_type": "stream",
     "text": [
      "Palindromes: ['php', 'aba', 'radar', 'level']\n"
     ]
    }
   ],
   "source": [
    "strings = ['python', 'php', 'aba', 'radar', 'level']\n",
    "\n",
    "palindromes = list(filter(lambda x: x == x[::-1], strings))\n",
    "\n",
    "print(\"Palindromes:\", palindromes)\n"
   ]
  },
  {
   "cell_type": "code",
   "execution_count": null,
   "id": "520f731d-ddc8-482b-8682-8338d15f1341",
   "metadata": {},
   "outputs": [],
   "source": []
  },
  {
   "cell_type": "code",
   "execution_count": null,
   "id": "d7664879-d806-4023-bd59-14e69884ea27",
   "metadata": {},
   "outputs": [],
   "source": []
  }
 ],
 "metadata": {
  "kernelspec": {
   "display_name": "Python 3 (ipykernel)",
   "language": "python",
   "name": "python3"
  },
  "language_info": {
   "codemirror_mode": {
    "name": "ipython",
    "version": 3
   },
   "file_extension": ".py",
   "mimetype": "text/x-python",
   "name": "python",
   "nbconvert_exporter": "python",
   "pygments_lexer": "ipython3",
   "version": "3.10.8"
  }
 },
 "nbformat": 4,
 "nbformat_minor": 5
}
