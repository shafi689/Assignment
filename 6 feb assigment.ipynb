{
 "cells": [
  {
   "cell_type": "code",
   "execution_count": null,
   "id": "f129ad98-ee6b-40f3-afab-0bcfe9e6ae51",
   "metadata": {},
   "outputs": [],
   "source": [
    "Q1. Create a function which will take a list as an argument and return the product of all the numbers\n",
    "after creating a flat list.\n",
    "\n",
    "Use the below-given list as an argument for your function.\n",
    "\n",
    "\n",
    "list1 = [1,2,3,4, [44,55,66, True], False, (34,56,78,89,34), {1,2,3,3,2,1}, {1:34, \"key2\": [55, 67, 78, 89], 4: (45,\n",
    "22, 61, 34)}, [56, 'data science'], 'Machine Learning']\n",
    "\n",
    "\n",
    "Note: you must extract numeric keys and values of the dictionary also.\n",
    "\n"
   ]
  },
  {
   "cell_type": "code",
   "execution_count": 2,
   "id": "ffa089a1-3960-48e7-916f-2740bc8f3a84",
   "metadata": {},
   "outputs": [],
   "source": [
    "def calculate_product(lst):\n",
    "    flat_list = []\n",
    "    \n",
    "    def extract_numbers(item):\n",
    "        if isinstance(item, (int, float)):\n",
    "            flat_list.append(item)\n",
    "        elif isinstance(item, list):\n",
    "            for sub_item in item:\n",
    "                extract_numbers(sub_item)\n",
    "        elif isinstance(item, dict):\n",
    "            for value in item.values():\n",
    "                extract_numbers(value)\n",
    "        elif isinstance(item, tuple):\n",
    "            for value in item:\n",
    "                extract_numbers(value)\n",
    "    \n",
    "    for item in lst:\n",
    "        extract_numbers(item)\n",
    "    \n",
    "    product = 1\n",
    "    for number in flat_list:\n",
    "        product *= number\n",
    "    \n",
    "    return product\n",
    "\n"
   ]
  },
  {
   "cell_type": "code",
   "execution_count": null,
   "id": "931ccee0-a737-4f59-80d3-850f0776a9d6",
   "metadata": {},
   "outputs": [
    {
     "name": "stdout",
     "output_type": "stream",
     "text": [
      "0\n"
     ]
    }
   ],
   "source": [
    "list1 = [1,2,3,4, [44,55,66, True], False, (34,56,78,89,34), {1,2,3,3,2,1}, {1:34, \"key2\": [55, 67, 78, 89], 4: (45, 22, 61, 34)}, [56, 'data science'], 'Machine Learning']\n",
    "result = calculate_product(list1)\n",
    "print(result)\n"
   ]
  },
  {
   "cell_type": "code",
   "execution_count": null,
   "id": "76244fb1-0dbe-4c7d-a189-e1be1503c268",
   "metadata": {},
   "outputs": [],
   "source": [
    "Q2. Write a python program for encrypting a message sent to you by your friend. The logic of encryption\n",
    "should be such that, for a the output should be z. For b, the output should be y. For c, the output should\n",
    "be x respectively. Also, the whitespace should be replaced with a dollar sign. Keep the punctuation\n",
    "marks unchanged.\n",
    "\n",
    "\n",
    "Input Sentence: I want to become a Data Scientist.\n",
    "\n",
    "\n",
    "Encrypt the above input sentence using the program you just created.\n",
    "\n",
    "\n",
    "Note: Convert the given input sentence into lowercase before encrypting. The final output should be\n",
    "lowercase."
   ]
  },
  {
   "cell_type": "code",
   "execution_count": 7,
   "id": "bfbbb6a0-bdbc-43e9-9d3f-5e3f0f02196e",
   "metadata": {},
   "outputs": [
    {
     "name": "stdout",
     "output_type": "stream",
     "text": [
      "Encrypted Sentence: r$dzmg$gl$yvxlnv$z$wzgz$hxrvmgrhg.\n"
     ]
    }
   ],
   "source": [
    "def encrypt_message(message):\n",
    "    encrypted_message = \"\"\n",
    "    for char in message:\n",
    "        if char.isalpha():\n",
    "            if char.islower():\n",
    "                encrypted_char = chr(219 - ord(char))  # Convert lowercase character\n",
    "            else:\n",
    "                encrypted_char = chr(155 - ord(char))  # Convert uppercase character\n",
    "        elif char == \" \":\n",
    "            encrypted_char = \"$\"  # Replace whitespace with a dollar sign\n",
    "        else:\n",
    "            encrypted_char = char  # Keep punctuation marks unchanged\n",
    "        encrypted_message += encrypted_char\n",
    "    return encrypted_message\n",
    "\n",
    "\n",
    "input_sentence = \"I want to become a Data Scientist.\"\n",
    "lowercase_sentence = input_sentence.lower()\n",
    "encrypted_sentence = encrypt_message(lowercase_sentence)\n",
    "print(\"Encrypted Sentence:\", encrypted_sentence)\n"
   ]
  },
  {
   "cell_type": "code",
   "execution_count": null,
   "id": "a4b171ae-b9d4-4375-9cdf-8c29521c0734",
   "metadata": {},
   "outputs": [],
   "source": []
  },
  {
   "cell_type": "code",
   "execution_count": null,
   "id": "7530a34e-7050-474f-b79d-9c9b7536a680",
   "metadata": {},
   "outputs": [],
   "source": []
  },
  {
   "cell_type": "code",
   "execution_count": null,
   "id": "5bc1792a-e9aa-4696-9d06-0195e3b3452e",
   "metadata": {},
   "outputs": [],
   "source": []
  }
 ],
 "metadata": {
  "kernelspec": {
   "display_name": "Python 3 (ipykernel)",
   "language": "python",
   "name": "python3"
  },
  "language_info": {
   "codemirror_mode": {
    "name": "ipython",
    "version": 3
   },
   "file_extension": ".py",
   "mimetype": "text/x-python",
   "name": "python",
   "nbconvert_exporter": "python",
   "pygments_lexer": "ipython3",
   "version": "3.10.8"
  }
 },
 "nbformat": 4,
 "nbformat_minor": 5
}
