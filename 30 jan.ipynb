{
 "cells": [
  {
   "cell_type": "code",
   "execution_count": null,
   "id": "799f5997-0c05-424c-9bc9-563d73ed2296",
   "metadata": {},
   "outputs": [],
   "source": [
    "1 Write a program to accept prcentage from user end and display the grade according to the following\n",
    "marks : >90 grade A ,80 and <=90 grade b, >=60 and <=50 grade c, below 60 grade D\n",
    "\n"
   ]
  },
  {
   "cell_type": "code",
   "execution_count": 1,
   "id": "6ba2e35e-51bf-4930-b7ed-b0f6e5deefc8",
   "metadata": {},
   "outputs": [
    {
     "name": "stdin",
     "output_type": "stream",
     "text": [
      "Enter the percentage:  88\n"
     ]
    },
    {
     "name": "stdout",
     "output_type": "stream",
     "text": [
      "Grade: B\n"
     ]
    }
   ],
   "source": [
    "percentage = float(input(\"Enter the percentage: \"))\n",
    "\n",
    "if percentage > 90:\n",
    "    grade = 'A'\n",
    "elif percentage > 80:\n",
    "    grade = 'B'\n",
    "elif percentage > 60:\n",
    "    grade = 'C'\n",
    "else:\n",
    "    grade = 'D'\n",
    "\n",
    "print(\"Grade:\", grade)\n",
    "\n"
   ]
  },
  {
   "cell_type": "code",
   "execution_count": null,
   "id": "2f50a833-49f0-426f-8539-d760bd857953",
   "metadata": {},
   "outputs": [],
   "source": []
  },
  {
   "cell_type": "code",
   "execution_count": null,
   "id": "ef17cee8-22b4-4066-966e-c821a3a823b2",
   "metadata": {},
   "outputs": [],
   "source": []
  },
  {
   "cell_type": "code",
   "execution_count": null,
   "id": "4fd62399-6d30-497d-b24a-a304a6ea0594",
   "metadata": {},
   "outputs": [],
   "source": [
    "2 Write a program to accept the cost price of bike and display the road tax to be paid according to the following\n",
    "tax 15% cost >100000\n",
    "tax 10% cost >50000 and <=100000\n",
    "tax 5% cost < = 50000\n",
    "\n"
   ]
  },
  {
   "cell_type": "code",
   "execution_count": 2,
   "id": "5cf3fa08-11e5-480e-b040-33ecc75f1f50",
   "metadata": {},
   "outputs": [
    {
     "name": "stdin",
     "output_type": "stream",
     "text": [
      "Enter the cost price of the bike:  100000\n"
     ]
    },
    {
     "name": "stdout",
     "output_type": "stream",
     "text": [
      "Road tax to be paid:  10000.0\n"
     ]
    }
   ],
   "source": [
    "cost_price = float(input(\"Enter the cost price of the bike: \"))\n",
    "\n",
    "if cost_price > 100000:\n",
    "    tax_rate = 0.15\n",
    "elif cost_price > 50000:\n",
    "    tax_rate = 0.1\n",
    "else:\n",
    "    tax_rate = 0.05\n",
    "\n",
    "road_tax = cost_price * tax_rate\n",
    "print(\"Road tax to be paid: \", road_tax)\n"
   ]
  },
  {
   "cell_type": "code",
   "execution_count": null,
   "id": "720bf44e-5d9d-4213-af33-8a1e1010bcc3",
   "metadata": {},
   "outputs": [],
   "source": []
  },
  {
   "cell_type": "code",
   "execution_count": null,
   "id": "a59e4230-ec66-4adf-814e-6c0700ba5f87",
   "metadata": {},
   "outputs": [],
   "source": [
    "3 accept any city from the user and display monuments of the city\n",
    "\n",
    "city: Delhi ,Agra,jaipur\n",
    "Monument: red fort, taj mahal , jai mahal\n",
    "\n"
   ]
  },
  {
   "cell_type": "code",
   "execution_count": 3,
   "id": "ba999ef0-b932-42ec-b7d1-930865c0f04d",
   "metadata": {},
   "outputs": [
    {
     "name": "stdin",
     "output_type": "stream",
     "text": [
      "Enter a city (Delhi, Agra, or Jaipur):  delhi\n"
     ]
    },
    {
     "name": "stdout",
     "output_type": "stream",
     "text": [
      "Monuments in Delhi:\n",
      "Red Fort\n"
     ]
    }
   ],
   "source": [
    "city = input(\"Enter a city (Delhi, Agra, or Jaipur): \")\n",
    "\n",
    "if city.lower() == \"delhi\":\n",
    "    monuments = [\"Red Fort\"]\n",
    "elif city.lower() == \"agra\":\n",
    "    monuments = [\"Taj Mahal\"]\n",
    "elif city.lower() == \"jaipur\":\n",
    "    monuments = [\"Jai Mahal\"]\n",
    "else:\n",
    "    monuments = []\n",
    "\n",
    "if monuments:\n",
    "    print(\"Monuments in\", city.capitalize() + \":\")\n",
    "    for monument in monuments:\n",
    "        print(monument)\n",
    "else:\n",
    "    print(\"No information available for the entered city.\")\n"
   ]
  },
  {
   "cell_type": "code",
   "execution_count": null,
   "id": "84e673c3-cc3a-479b-ae6d-e1ca9f90e729",
   "metadata": {},
   "outputs": [],
   "source": [
    "3 Check weather a given number can be  divided by 3 brfore it is less than or equal to 10\n"
   ]
  },
  {
   "cell_type": "code",
   "execution_count": 4,
   "id": "d036d7c4-d3ac-4f36-a134-643767729636",
   "metadata": {},
   "outputs": [
    {
     "name": "stdin",
     "output_type": "stream",
     "text": [
      "Enter a number:  64\n"
     ]
    },
    {
     "name": "stdout",
     "output_type": "stream",
     "text": [
      "The number 64 cannot be divided by 3.\n",
      "The number 63 can be divided by 3.\n",
      "The number 62 cannot be divided by 3.\n",
      "The number 61 cannot be divided by 3.\n",
      "The number 60 can be divided by 3.\n",
      "The number 59 cannot be divided by 3.\n",
      "The number 58 cannot be divided by 3.\n",
      "The number 57 can be divided by 3.\n",
      "The number 56 cannot be divided by 3.\n",
      "The number 55 cannot be divided by 3.\n",
      "The number 54 can be divided by 3.\n",
      "The number 53 cannot be divided by 3.\n",
      "The number 52 cannot be divided by 3.\n",
      "The number 51 can be divided by 3.\n",
      "The number 50 cannot be divided by 3.\n",
      "The number 49 cannot be divided by 3.\n",
      "The number 48 can be divided by 3.\n",
      "The number 47 cannot be divided by 3.\n",
      "The number 46 cannot be divided by 3.\n",
      "The number 45 can be divided by 3.\n",
      "The number 44 cannot be divided by 3.\n",
      "The number 43 cannot be divided by 3.\n",
      "The number 42 can be divided by 3.\n",
      "The number 41 cannot be divided by 3.\n",
      "The number 40 cannot be divided by 3.\n",
      "The number 39 can be divided by 3.\n",
      "The number 38 cannot be divided by 3.\n",
      "The number 37 cannot be divided by 3.\n",
      "The number 36 can be divided by 3.\n",
      "The number 35 cannot be divided by 3.\n",
      "The number 34 cannot be divided by 3.\n",
      "The number 33 can be divided by 3.\n",
      "The number 32 cannot be divided by 3.\n",
      "The number 31 cannot be divided by 3.\n",
      "The number 30 can be divided by 3.\n",
      "The number 29 cannot be divided by 3.\n",
      "The number 28 cannot be divided by 3.\n",
      "The number 27 can be divided by 3.\n",
      "The number 26 cannot be divided by 3.\n",
      "The number 25 cannot be divided by 3.\n",
      "The number 24 can be divided by 3.\n",
      "The number 23 cannot be divided by 3.\n",
      "The number 22 cannot be divided by 3.\n",
      "The number 21 can be divided by 3.\n",
      "The number 20 cannot be divided by 3.\n",
      "The number 19 cannot be divided by 3.\n",
      "The number 18 can be divided by 3.\n",
      "The number 17 cannot be divided by 3.\n",
      "The number 16 cannot be divided by 3.\n",
      "The number 15 can be divided by 3.\n",
      "The number 14 cannot be divided by 3.\n",
      "The number 13 cannot be divided by 3.\n",
      "The number 12 can be divided by 3.\n",
      "The number 11 cannot be divided by 3.\n",
      "The number is now less than or equal to 10.\n"
     ]
    }
   ],
   "source": [
    "number = int(input(\"Enter a number: \"))\n",
    "\n",
    "while number > 10:\n",
    "    if number % 3 == 0:\n",
    "        print(\"The number\", number, \"can be divided by 3.\")\n",
    "    else:\n",
    "        print(\"The number\", number, \"cannot be divided by 3.\")\n",
    "\n",
    "    number -= 1\n",
    "\n",
    "print(\"The number is now less than or equal to 10.\")\n"
   ]
  },
  {
   "cell_type": "code",
   "execution_count": null,
   "id": "4985b8cf-073c-4b4b-8ab5-f54d24e77b43",
   "metadata": {},
   "outputs": [],
   "source": [
    "4 why and when to use while loop in python give a detailed descrription with example\n"
   ]
  },
  {
   "cell_type": "code",
   "execution_count": null,
   "id": "3d6b7825-1d06-43e0-a876-4b68dd731c9f",
   "metadata": {},
   "outputs": [],
   "source": [
    "The while loop in Python is used when you want to repeat a block of code as long as a certain condition is true. \n",
    "It allows you to create iterative processes that continue until a specific condition is no longer met.\n",
    "The while loop is suitable when you don't know in advance how many iterations will be needed.\n",
    "\n",
    "Here's a detailed description of when and how to use a while loop in Python, along with an example:\n",
    "\n",
    "Loop Condition:\n",
    "The while loop starts by evaluating a condition. If the condition is true, the code block inside the loop is \n",
    "executed. If the condition is false, the loop is skipped, and the program continues with the next statement \n",
    "after the loop.\n",
    "\n",
    "Continuation or Termination:\n",
    "Inside the loop, you typically perform some operations or calculations. At the end of each iteration, the loop \n",
    "condition is evaluated again. If the condition is still true, the loop continues to the next iteration. If the \n",
    "condition becomes false, the loop is terminated, and the program proceeds with the next statement after the loop.\n",
    "\n",
    "Modifying the Loop Condition:\n",
    "To prevent an infinite loop, it's important to modify the loop condition inside the loop body, so that it\n",
    "eventually becomes false and allows the loop to terminate. This modification usually involves changing the \n",
    "values of variables involved in the condition."
   ]
  },
  {
   "cell_type": "code",
   "execution_count": 5,
   "id": "a7c53796-e91e-4789-8387-d85bb53b9e2e",
   "metadata": {},
   "outputs": [
    {
     "name": "stdin",
     "output_type": "stream",
     "text": [
      "Enter a number:  25\n"
     ]
    },
    {
     "name": "stdout",
     "output_type": "stream",
     "text": [
      "The sum of numbers from 1 to 25 is 325\n"
     ]
    }
   ],
   "source": [
    "n = int(input(\"Enter a number: \"))\n",
    "sum = 0\n",
    "i = 1\n",
    "\n",
    "while i <= n:\n",
    "    sum += i\n",
    "    i += 1\n",
    "\n",
    "print(\"The sum of numbers from 1 to\", n, \"is\", sum)\n"
   ]
  },
  {
   "cell_type": "code",
   "execution_count": null,
   "id": "34e44170-e00e-4ba8-9dcd-b768f6c57fc6",
   "metadata": {},
   "outputs": [],
   "source": [
    "5 use nested while loop to print 3 differnt patterns\n"
   ]
  },
  {
   "cell_type": "code",
   "execution_count": null,
   "id": "6b97643f-deb3-47de-a30f-59503d588233",
   "metadata": {},
   "outputs": [],
   "source": [
    "right angle triangle"
   ]
  },
  {
   "cell_type": "code",
   "execution_count": 6,
   "id": "4c26d4ff-a42c-4458-a1b8-8e24392de137",
   "metadata": {},
   "outputs": [
    {
     "name": "stdout",
     "output_type": "stream",
     "text": [
      "*\n",
      "**\n",
      "***\n",
      "****\n",
      "*****\n"
     ]
    }
   ],
   "source": [
    "# Right-Angled Triangle\n",
    "rows = 5\n",
    "i = 1\n",
    "\n",
    "while i <= rows:\n",
    "    j = 1\n",
    "    while j <= i:\n",
    "        print(\"*\", end=\"\")\n",
    "        j += 1\n",
    "    print()\n",
    "    i += 1\n"
   ]
  },
  {
   "cell_type": "code",
   "execution_count": null,
   "id": "07754e07-a3ab-4302-9490-7ad947d5af8c",
   "metadata": {},
   "outputs": [],
   "source": [
    "Pattern 2: Inverted Right-Angled Triangle"
   ]
  },
  {
   "cell_type": "code",
   "execution_count": 7,
   "id": "da466b90-8a33-4ff5-8e69-e108e54d71d0",
   "metadata": {},
   "outputs": [
    {
     "name": "stdout",
     "output_type": "stream",
     "text": [
      "*****\n",
      "****\n",
      "***\n",
      "**\n",
      "*\n"
     ]
    }
   ],
   "source": [
    "# Inverted Right-Angled Triangle\n",
    "rows = 5\n",
    "i = rows\n",
    "\n",
    "while i >= 1:\n",
    "    j = 1\n",
    "    while j <= i:\n",
    "        print(\"*\", end=\"\")\n",
    "        j += 1\n",
    "    print()\n",
    "    i -= 1\n"
   ]
  },
  {
   "cell_type": "code",
   "execution_count": null,
   "id": "6fe4d20f-1db5-448b-a594-682ce1ccd222",
   "metadata": {},
   "outputs": [],
   "source": [
    "Pattern 3: Diamond"
   ]
  },
  {
   "cell_type": "code",
   "execution_count": 8,
   "id": "f83a1f41-c6a2-4d4b-8676-578cbd0557b8",
   "metadata": {},
   "outputs": [
    {
     "name": "stdout",
     "output_type": "stream",
     "text": [
      "    * \n",
      "   * * \n",
      "  * * * \n",
      " * * * * \n",
      "* * * * * \n",
      " * * * * \n",
      "  * * * \n",
      "   * * \n",
      "    * \n"
     ]
    }
   ],
   "source": [
    "# Diamond\n",
    "rows = 5\n",
    "i = 1\n",
    "\n",
    "while i <= rows:\n",
    "    j = 1\n",
    "    while j <= rows - i:\n",
    "        print(\" \", end=\"\")\n",
    "        j += 1\n",
    "\n",
    "    j = 1\n",
    "    while j <= i:\n",
    "        print(\"* \", end=\"\")\n",
    "        j += 1\n",
    "\n",
    "    print()\n",
    "    i += 1\n",
    "\n",
    "i = rows - 1\n",
    "\n",
    "while i >= 1:\n",
    "    j = 1\n",
    "    while j <= rows - i:\n",
    "        print(\" \", end=\"\")\n",
    "        j += 1\n",
    "\n",
    "    j = 1\n",
    "    while j <= i:\n",
    "        print(\"* \", end=\"\")\n",
    "        j += 1\n",
    "\n",
    "    print()\n",
    "    i -= 1\n"
   ]
  },
  {
   "cell_type": "code",
   "execution_count": null,
   "id": "270d9e9d-c045-49da-a2e0-32df4227806e",
   "metadata": {},
   "outputs": [],
   "source": []
  },
  {
   "cell_type": "code",
   "execution_count": null,
   "id": "3ce1206c-6777-4a47-92ec-24d69c143def",
   "metadata": {},
   "outputs": [],
   "source": [
    "6 reverse a while loop to display numbers from 10 to 1\n"
   ]
  },
  {
   "cell_type": "code",
   "execution_count": 9,
   "id": "45d362fd-2d17-4180-9b9f-d9bfe71e6d0f",
   "metadata": {},
   "outputs": [
    {
     "name": "stdout",
     "output_type": "stream",
     "text": [
      "10\n",
      "9\n",
      "8\n",
      "7\n",
      "6\n",
      "5\n",
      "4\n",
      "3\n",
      "2\n",
      "1\n"
     ]
    }
   ],
   "source": [
    "number = 10\n",
    "\n",
    "while number >= 1:\n",
    "    print(number)\n",
    "    number -= 1\n"
   ]
  },
  {
   "cell_type": "code",
   "execution_count": null,
   "id": "61a4606f-9a75-4fc5-87c7-a70848b85b3b",
   "metadata": {},
   "outputs": [],
   "source": []
  }
 ],
 "metadata": {
  "kernelspec": {
   "display_name": "Python 3 (ipykernel)",
   "language": "python",
   "name": "python3"
  },
  "language_info": {
   "codemirror_mode": {
    "name": "ipython",
    "version": 3
   },
   "file_extension": ".py",
   "mimetype": "text/x-python",
   "name": "python",
   "nbconvert_exporter": "python",
   "pygments_lexer": "ipython3",
   "version": "3.10.8"
  }
 },
 "nbformat": 4,
 "nbformat_minor": 5
}
